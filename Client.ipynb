{
 "cells": [
  {
   "cell_type": "code",
   "execution_count": 1,
   "metadata": {},
   "outputs": [],
   "source": [
    "import Pyro4"
   ]
  },
  {
   "cell_type": "code",
   "execution_count": 2,
   "metadata": {},
   "outputs": [
    {
     "name": "stdout",
     "output_type": "stream",
     "text": [
      "Enter the uri: example.cal\n"
     ]
    }
   ],
   "source": [
    "Pyro4.config.HOST = '192.168.137.170'\n",
    "s = input(\"Enter the uri: \")\n",
    "ns = Pyro4.locateNS()\n",
    "uri = ns.lookup(s)\n",
    "c = Pyro4.Proxy(uri)"
   ]
  },
  {
   "cell_type": "code",
   "execution_count": null,
   "metadata": {},
   "outputs": [
    {
     "name": "stdout",
     "output_type": "stream",
     "text": [
      "1: Add\n",
      "2: Sub\n",
      "3: Multiply\n",
      "4: Divide\n",
      "Enter your choice: 1\n",
      "35 56\n",
      "91\n",
      "1: Add\n",
      "2: Sub\n",
      "3: Multiply\n",
      "4: Divide\n",
      "Enter your choice: 3\n",
      "56 100\n",
      "5600\n"
     ]
    }
   ],
   "source": [
    "while True:\n",
    "    ch = int(input(\"1: Add\\n2: Sub\\n3: Multiply\\n4: Divide\\nEnter your choice: \"))\n",
    "    if(ch == 1):\n",
    "        a,b = map(int, input().split())\n",
    "        print(c.add(a,b))\n",
    "    elif(ch == 2):\n",
    "        a,b = map(int, input().split())\n",
    "        print(c.sub(a,b))\n",
    "    elif(ch == 3):\n",
    "        a,b = map(int, input().split())\n",
    "        print(c.mul(a,b))\n",
    "    elif(ch == 4):\n",
    "        a,b = map(int, input().split())\n",
    "        print(c.div(a,b))\n",
    "    else:\n",
    "        print(\"Connection terminated...\")\n",
    "        break\n",
    "    "
   ]
  }
 ],
 "metadata": {
  "kernelspec": {
   "display_name": "Python 3",
   "language": "python",
   "name": "python3"
  },
  "language_info": {
   "codemirror_mode": {
    "name": "ipython",
    "version": 3
   },
   "file_extension": ".py",
   "mimetype": "text/x-python",
   "name": "python",
   "nbconvert_exporter": "python",
   "pygments_lexer": "ipython3",
   "version": "3.7.3"
  }
 },
 "nbformat": 4,
 "nbformat_minor": 2
}
