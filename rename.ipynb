{
 "cells": [
  {
   "cell_type": "code",
   "execution_count": 1,
   "metadata": {},
   "outputs": [],
   "source": [
    "import Pyro4, time, socket"
   ]
  },
  {
   "cell_type": "code",
   "execution_count": 2,
   "metadata": {},
   "outputs": [],
   "source": [
    "@Pyro4.expose\n",
    "class Cal(object):\n",
    "    def add(self,a,b):\n",
    "        return (a+b)\n",
    "    def sub(self,a,b):\n",
    "        return (a-b)\n",
    "    def mul(self,a,b):\n",
    "        return (a*b)\n",
    "    def div(self,a,b):\n",
    "        c = -99999\n",
    "        if(b != 0):\n",
    "            c = a//b\n",
    "        return c"
   ]
  },
  {
   "cell_type": "code",
   "execution_count": 3,
   "metadata": {},
   "outputs": [],
   "source": [
    "Pyro4.config.HOST = '192.168.137.177'\n",
    "daemon = Pyro4.Daemon()\n",
    "ns = Pyro4.locateNS()\n",
    "uri = daemon.register(Cal)\n",
    "ns.register(\"example.cal\",uri)"
   ]
  },
  {
   "cell_type": "code",
   "execution_count": null,
   "metadata": {},
   "outputs": [
    {
     "name": "stdout",
     "output_type": "stream",
     "text": [
      "Starting server...\n",
      "Server started successfully...\n"
     ]
    }
   ],
   "source": [
    "print(\"Starting server...\")\n",
    "time.sleep(1)\n",
    "print(\"Server started successfully...\")\n",
    "daemon.requestLoop()"
   ]
  }
 ],
 "metadata": {
  "kernelspec": {
   "display_name": "Python 3",
   "language": "python",
   "name": "python3"
  },
  "language_info": {
   "codemirror_mode": {
    "name": "ipython",
    "version": 3
   },
   "file_extension": ".py",
   "mimetype": "text/x-python",
   "name": "python",
   "nbconvert_exporter": "python",
   "pygments_lexer": "ipython3",
   "version": "3.7.3"
  }
 },
 "nbformat": 4,
 "nbformat_minor": 2
}
